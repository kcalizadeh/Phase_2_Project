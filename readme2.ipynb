{
 "metadata": {
  "language_info": {
   "codemirror_mode": {
    "name": "ipython",
    "version": 3
   },
   "file_extension": ".py",
   "mimetype": "text/x-python",
   "name": "python",
   "nbconvert_exporter": "python",
   "pygments_lexer": "ipython3",
   "version": 3
  },
  "orig_nbformat": 2
 },
 "nbformat": 4,
 "nbformat_minor": 2,
 "cells": [
  {
   "source": [
    "# Phase 2 Final Project\n",
    "\n"
   ],
   "cell_type": "markdown",
   "metadata": {}
  },
  {
   "source": [
    "Student name: Kourosh Alizadeh  \n",
    "Student pace: full time  \n",
    "Scheduled project review date/time: 10/12/2020, 3pm EST  \n",
    "Instructor name: Rafael Carrasco  \n",
    "Blog post URL: TBD  "
   ],
   "cell_type": "markdown",
   "metadata": {}
  },
  {
   "source": [
    "## An Examination of the Housing Habits of the Human Aliens\n",
    "\n",
    "To my dear and esteemed colleagues of the Alien Species Research Comission:\n",
    "\n",
    "Thanks to our brave agents in the field, we have recently acquired some data on patterns regarding the artifical habitats humans have created for themselves in a place called King's County. \n",
    "\n",
    "In this report, we use this data to examine what features humans value in a dwelling. In particular, we look at the following questions:\n",
    "\n",
    "1. Do humans prefer to live near water or to live more inland where it is safer?\n",
    "2. Do humans like to have a lot of empty land around them?\n",
    "3. Do humans like to live high above the ground?\n",
    "4. Do humans enjoy living deep below the ground?\n",
    "5. Do humans use their eyes for pleasure or only survival?\n",
    "\n",
    "Finally, we build a model using multlinear regression to estimate how a human might value a house based on its features. \n",
    "\n",
    "To begin with, let's look at the results for each question:"
   ],
   "cell_type": "markdown",
   "metadata": {}
  },
  {
   "source": [
    "### 1. Do humans prefer to live near water?\n",
    "\n",
    "![title](images/waterfront.png)\n",
    "\n",
    "Yes, they do. Houses built near the water predominantly among the most expensive.\n",
    "\n"
   ],
   "cell_type": "markdown",
   "metadata": {}
  },
  {
   "source": [
    "### 2. Do humans like to have empty land around them?\n",
    "\n",
    "![title](images/surroundings.png)\n",
    "\n",
    "There does not seem to be any connection between the amount of surrounding space a house has and a human's willingness to expend financial tokens for its purchase."
   ],
   "cell_type": "markdown",
   "metadata": {}
  },
  {
   "source": [
    "### 3. Do humans value living high above the ground?\n",
    "\n",
    "![title](images/tallness.png)\n",
    "\n",
    "Yes, they do. There are more tall homes among the upper quartile than there are among lower quartiles. "
   ],
   "cell_type": "markdown",
   "metadata": {}
  },
  {
   "source": [
    "### 4. Do humans enjoy living deep beneath the ground?\n",
    "\n",
    "![title](images/basements.png)\n",
    "\n",
    "Yes. Basements, like access to water and high floors, also seemed to be more common among more expensive homes. "
   ],
   "cell_type": "markdown",
   "metadata": {}
  },
  {
   "source": [
    "### 5. Do humans use their eyes for pleasure?\n",
    "\n",
    "![title](images/view.png)\n",
    "\n",
    "Yes. While some had argued previously that the human eye was simply a way of sensing radiation for survival purposes, humans do seem to value experiencing certain patterns of radiation more than others, regardless of survivability. They are willing to spend more on homes that enable them to experience these preferred patterns more often."
   ],
   "cell_type": "markdown",
   "metadata": {}
  },
  {
   "source": [
    "## Our Regression Model\n",
    "\n",
    "We used most of these features, as well as the log sqftage of the living space in each artifical habitat, to build a multiple regression model.\n",
    "\n",
    "![title](images/regression.png)\n"
   ],
   "cell_type": "markdown",
   "metadata": {}
  },
  {
   "cell_type": "code",
   "execution_count": null,
   "metadata": {},
   "outputs": [],
   "source": []
  }
 ]
}